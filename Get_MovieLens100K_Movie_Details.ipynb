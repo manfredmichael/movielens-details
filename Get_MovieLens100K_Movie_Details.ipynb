{
  "nbformat": 4,
  "nbformat_minor": 0,
  "metadata": {
    "colab": {
      "name": "Get MovieLens100K Movie Details",
      "provenance": []
    },
    "kernelspec": {
      "display_name": "Python 3",
      "name": "python3"
    },
    "language_info": {
      "name": "python"
    }
  },
  "cells": [
    {
      "cell_type": "code",
      "metadata": {
        "colab": {
          "base_uri": "https://localhost:8080/"
        },
        "id": "C3pSb_cD-v98",
        "outputId": "522298f0-b904-4026-aa3c-3212a0275b8d"
      },
      "source": [
        "!wget https://raw.githubusercontent.com/babu-thomas/movielens-posters/master/movie_url.csv\n",
        "!wget https://raw.githubusercontent.com/babu-thomas/movielens-posters/master/movie_poster.csv"
      ],
      "execution_count": 1,
      "outputs": [
        {
          "output_type": "stream",
          "name": "stdout",
          "text": [
            "--2021-10-12 10:29:20--  https://raw.githubusercontent.com/babu-thomas/movielens-posters/master/movie_url.csv\n",
            "Resolving raw.githubusercontent.com (raw.githubusercontent.com)... 185.199.111.133, 185.199.109.133, 185.199.108.133, ...\n",
            "Connecting to raw.githubusercontent.com (raw.githubusercontent.com)|185.199.111.133|:443... connected.\n",
            "HTTP request sent, awaiting response... 200 OK\n",
            "Length: 94025 (92K) [text/plain]\n",
            "Saving to: ‘movie_url.csv.1’\n",
            "\n",
            "\rmovie_url.csv.1       0%[                    ]       0  --.-KB/s               \rmovie_url.csv.1     100%[===================>]  91.82K  --.-KB/s    in 0.01s   \n",
            "\n",
            "2021-10-12 10:29:20 (9.22 MB/s) - ‘movie_url.csv.1’ saved [94025/94025]\n",
            "\n",
            "--2021-10-12 10:29:20--  https://raw.githubusercontent.com/babu-thomas/movielens-posters/master/movie_poster.csv\n",
            "Resolving raw.githubusercontent.com (raw.githubusercontent.com)... 185.199.108.133, 185.199.109.133, 185.199.110.133, ...\n",
            "Connecting to raw.githubusercontent.com (raw.githubusercontent.com)|185.199.108.133|:443... connected.\n",
            "HTTP request sent, awaiting response... 200 OK\n",
            "Length: 202458 (198K) [text/plain]\n",
            "Saving to: ‘movie_poster.csv.1’\n",
            "\n",
            "movie_poster.csv.1  100%[===================>] 197.71K  --.-KB/s    in 0.02s   \n",
            "\n",
            "2021-10-12 10:29:20 (12.5 MB/s) - ‘movie_poster.csv.1’ saved [202458/202458]\n",
            "\n"
          ]
        }
      ]
    },
    {
      "cell_type": "code",
      "metadata": {
        "id": "H3mjdXm3_2qC"
      },
      "source": [
        "import pandas as pd\n",
        "import numpy as np"
      ],
      "execution_count": 2,
      "outputs": []
    },
    {
      "cell_type": "code",
      "metadata": {
        "id": "5lp84qpl7WBm"
      },
      "source": [
        "poster_df = pd.read_csv('movie_poster.csv', header=None)"
      ],
      "execution_count": 3,
      "outputs": []
    },
    {
      "cell_type": "code",
      "metadata": {
        "colab": {
          "base_uri": "https://localhost:8080/",
          "height": 235
        },
        "id": "MT2jM8ECBgnN",
        "outputId": "3c249a34-078e-4058-9ee3-9c57801c736a"
      },
      "source": [
        "poster_df.set_index(0, inplace=True)\n",
        "poster_df.head()"
      ],
      "execution_count": 4,
      "outputs": [
        {
          "output_type": "execute_result",
          "data": {
            "text/html": [
              "<div>\n",
              "<style scoped>\n",
              "    .dataframe tbody tr th:only-of-type {\n",
              "        vertical-align: middle;\n",
              "    }\n",
              "\n",
              "    .dataframe tbody tr th {\n",
              "        vertical-align: top;\n",
              "    }\n",
              "\n",
              "    .dataframe thead th {\n",
              "        text-align: right;\n",
              "    }\n",
              "</style>\n",
              "<table border=\"1\" class=\"dataframe\">\n",
              "  <thead>\n",
              "    <tr style=\"text-align: right;\">\n",
              "      <th></th>\n",
              "      <th>1</th>\n",
              "    </tr>\n",
              "    <tr>\n",
              "      <th>0</th>\n",
              "      <th></th>\n",
              "    </tr>\n",
              "  </thead>\n",
              "  <tbody>\n",
              "    <tr>\n",
              "      <th>1</th>\n",
              "      <td>https://images-na.ssl-images-amazon.com/images...</td>\n",
              "    </tr>\n",
              "    <tr>\n",
              "      <th>2</th>\n",
              "      <td>https://images-na.ssl-images-amazon.com/images...</td>\n",
              "    </tr>\n",
              "    <tr>\n",
              "      <th>3</th>\n",
              "      <td>https://images-na.ssl-images-amazon.com/images...</td>\n",
              "    </tr>\n",
              "    <tr>\n",
              "      <th>4</th>\n",
              "      <td>https://images-na.ssl-images-amazon.com/images...</td>\n",
              "    </tr>\n",
              "    <tr>\n",
              "      <th>5</th>\n",
              "      <td>https://images-na.ssl-images-amazon.com/images...</td>\n",
              "    </tr>\n",
              "  </tbody>\n",
              "</table>\n",
              "</div>"
            ],
            "text/plain": [
              "                                                   1\n",
              "0                                                   \n",
              "1  https://images-na.ssl-images-amazon.com/images...\n",
              "2  https://images-na.ssl-images-amazon.com/images...\n",
              "3  https://images-na.ssl-images-amazon.com/images...\n",
              "4  https://images-na.ssl-images-amazon.com/images...\n",
              "5  https://images-na.ssl-images-amazon.com/images..."
            ]
          },
          "metadata": {},
          "execution_count": 4
        }
      ]
    },
    {
      "cell_type": "code",
      "metadata": {
        "colab": {
          "base_uri": "https://localhost:8080/",
          "height": 450
        },
        "id": "hJDt0lDlDpNn",
        "outputId": "dba1a5ad-76be-4847-d38c-3e90963530be"
      },
      "source": [
        "url_df = pd.read_csv('movie_url.csv', header=None)\n",
        "url_df.set_index(0, inplace=True)\n",
        "url_df"
      ],
      "execution_count": 14,
      "outputs": [
        {
          "output_type": "execute_result",
          "data": {
            "text/html": [
              "<div>\n",
              "<style scoped>\n",
              "    .dataframe tbody tr th:only-of-type {\n",
              "        vertical-align: middle;\n",
              "    }\n",
              "\n",
              "    .dataframe tbody tr th {\n",
              "        vertical-align: top;\n",
              "    }\n",
              "\n",
              "    .dataframe thead th {\n",
              "        text-align: right;\n",
              "    }\n",
              "</style>\n",
              "<table border=\"1\" class=\"dataframe\">\n",
              "  <thead>\n",
              "    <tr style=\"text-align: right;\">\n",
              "      <th></th>\n",
              "      <th>1</th>\n",
              "    </tr>\n",
              "    <tr>\n",
              "      <th>0</th>\n",
              "      <th></th>\n",
              "    </tr>\n",
              "  </thead>\n",
              "  <tbody>\n",
              "    <tr>\n",
              "      <th>1</th>\n",
              "      <td>http://www.imdb.com/title/tt0114709/?ref_=fn_a...</td>\n",
              "    </tr>\n",
              "    <tr>\n",
              "      <th>2</th>\n",
              "      <td>http://www.imdb.com/title/tt0113189/?ref_=fn_a...</td>\n",
              "    </tr>\n",
              "    <tr>\n",
              "      <th>3</th>\n",
              "      <td>http://www.imdb.com/title/tt0113101/?ref_=fn_a...</td>\n",
              "    </tr>\n",
              "    <tr>\n",
              "      <th>4</th>\n",
              "      <td>http://www.imdb.com/title/tt0113161/?ref_=fn_a...</td>\n",
              "    </tr>\n",
              "    <tr>\n",
              "      <th>5</th>\n",
              "      <td>http://www.imdb.com/title/tt0112722/?ref_=fn_a...</td>\n",
              "    </tr>\n",
              "    <tr>\n",
              "      <th>...</th>\n",
              "      <td>...</td>\n",
              "    </tr>\n",
              "    <tr>\n",
              "      <th>1678</th>\n",
              "      <td>http://www.imdb.com/title/tt0119711/?ref_=fn_a...</td>\n",
              "    </tr>\n",
              "    <tr>\n",
              "      <th>1679</th>\n",
              "      <td>http://www.imdb.com/title/tt0120594/?ref_=fn_a...</td>\n",
              "    </tr>\n",
              "    <tr>\n",
              "      <th>1680</th>\n",
              "      <td>http://www.imdb.com/title/tt0120148/?ref_=fn_a...</td>\n",
              "    </tr>\n",
              "    <tr>\n",
              "      <th>1681</th>\n",
              "      <td>http://www.imdb.com/title/tt0111804/?ref_=fn_a...</td>\n",
              "    </tr>\n",
              "    <tr>\n",
              "      <th>1682</th>\n",
              "      <td>http://www.imdb.com/title/tt0102855/?ref_=fn_a...</td>\n",
              "    </tr>\n",
              "  </tbody>\n",
              "</table>\n",
              "<p>1640 rows × 1 columns</p>\n",
              "</div>"
            ],
            "text/plain": [
              "                                                      1\n",
              "0                                                      \n",
              "1     http://www.imdb.com/title/tt0114709/?ref_=fn_a...\n",
              "2     http://www.imdb.com/title/tt0113189/?ref_=fn_a...\n",
              "3     http://www.imdb.com/title/tt0113101/?ref_=fn_a...\n",
              "4     http://www.imdb.com/title/tt0113161/?ref_=fn_a...\n",
              "5     http://www.imdb.com/title/tt0112722/?ref_=fn_a...\n",
              "...                                                 ...\n",
              "1678  http://www.imdb.com/title/tt0119711/?ref_=fn_a...\n",
              "1679  http://www.imdb.com/title/tt0120594/?ref_=fn_a...\n",
              "1680  http://www.imdb.com/title/tt0120148/?ref_=fn_a...\n",
              "1681  http://www.imdb.com/title/tt0111804/?ref_=fn_a...\n",
              "1682  http://www.imdb.com/title/tt0102855/?ref_=fn_a...\n",
              "\n",
              "[1640 rows x 1 columns]"
            ]
          },
          "metadata": {},
          "execution_count": 14
        }
      ]
    },
    {
      "cell_type": "code",
      "metadata": {
        "id": "_RdYT7ToBqkM"
      },
      "source": [
        "import tensorflow_datasets as tfds\n",
        "\n",
        "movie_ds = tfds.load(\"movielens/100k-movies\", split=\"train\")"
      ],
      "execution_count": 5,
      "outputs": []
    },
    {
      "cell_type": "code",
      "metadata": {
        "colab": {
          "base_uri": "https://localhost:8080/"
        },
        "id": "V7Y58abMEu9P",
        "outputId": "930cda85-4b48-4864-f33b-1fc18bb1581d"
      },
      "source": [
        "movie_arr = np.vstack(tfds.as_numpy(movie_ds))\n",
        "\n",
        "def get_poster_url(features):\n",
        "    features = features[0]\n",
        "    movie_id = int(features['movie_id'])\n",
        "    poster_url = None\n",
        "    movie_url = None\n",
        "    \n",
        "    if movie_id in poster_df.index:\n",
        "        poster_url = poster_df.loc[movie_id][1]\n",
        "    if movie_id in url_df.index:\n",
        "        movie_url= url_df.loc[movie_id][1]\n",
        "    return {**features,\n",
        "            'poster_url': poster_url,\n",
        "            'movie_url': movie_url}\n",
        "\n",
        "movie_arr = np.array(list(map(get_poster_url, movie_arr)))\n",
        "movie_arr = [arr for arr in movie_arr if arr != None]"
      ],
      "execution_count": 20,
      "outputs": [
        {
          "output_type": "stream",
          "name": "stderr",
          "text": [
            "/usr/local/lib/python3.7/dist-packages/ipykernel_launcher.py:1: FutureWarning: arrays to stack must be passed as a \"sequence\" type such as list or tuple. Support for non-sequence iterables such as generators is deprecated as of NumPy 1.16 and will raise an error in the future.\n",
            "  \"\"\"Entry point for launching an IPython kernel.\n"
          ]
        }
      ]
    },
    {
      "cell_type": "code",
      "metadata": {
        "id": "FM-rhUv5GpbJ"
      },
      "source": [
        "movie_df = pd.DataFrame(movie_arr)\n",
        "movie_df.dropna(axis=0, inplace=True)"
      ],
      "execution_count": 24,
      "outputs": []
    },
    {
      "cell_type": "code",
      "metadata": {
        "id": "q12QzzAACVYl"
      },
      "source": [
        "movie_df['movie_id'] = movie_df['movie_id'].apply(lambda x: x.decode('utf-8'))\n",
        "movie_df['movie_title'] = movie_df['movie_title'].apply(lambda x: x.decode('utf-8'))"
      ],
      "execution_count": 25,
      "outputs": []
    },
    {
      "cell_type": "code",
      "metadata": {
        "colab": {
          "base_uri": "https://localhost:8080/",
          "height": 606
        },
        "id": "AfXz53OCCmJb",
        "outputId": "b00b515c-88f1-43b8-b0b6-f4f0a0295715"
      },
      "source": [
        "movie_df"
      ],
      "execution_count": 29,
      "outputs": [
        {
          "output_type": "execute_result",
          "data": {
            "text/html": [
              "<div>\n",
              "<style scoped>\n",
              "    .dataframe tbody tr th:only-of-type {\n",
              "        vertical-align: middle;\n",
              "    }\n",
              "\n",
              "    .dataframe tbody tr th {\n",
              "        vertical-align: top;\n",
              "    }\n",
              "\n",
              "    .dataframe thead th {\n",
              "        text-align: right;\n",
              "    }\n",
              "</style>\n",
              "<table border=\"1\" class=\"dataframe\">\n",
              "  <thead>\n",
              "    <tr style=\"text-align: right;\">\n",
              "      <th></th>\n",
              "      <th>movie_genres</th>\n",
              "      <th>movie_id</th>\n",
              "      <th>movie_title</th>\n",
              "      <th>poster_url</th>\n",
              "      <th>movie_url</th>\n",
              "    </tr>\n",
              "  </thead>\n",
              "  <tbody>\n",
              "    <tr>\n",
              "      <th>0</th>\n",
              "      <td>[4]</td>\n",
              "      <td>1681</td>\n",
              "      <td>You So Crazy (1994)</td>\n",
              "      <td>https://images-na.ssl-images-amazon.com/images...</td>\n",
              "      <td>http://www.imdb.com/title/tt0111804/?ref_=fn_a...</td>\n",
              "    </tr>\n",
              "    <tr>\n",
              "      <th>1</th>\n",
              "      <td>[4, 7]</td>\n",
              "      <td>1457</td>\n",
              "      <td>Love Is All There Is (1996)</td>\n",
              "      <td>https://images-na.ssl-images-amazon.com/images...</td>\n",
              "      <td>http://www.imdb.com/title/tt0116928/?ref_=fn_a...</td>\n",
              "    </tr>\n",
              "    <tr>\n",
              "      <th>2</th>\n",
              "      <td>[1, 3]</td>\n",
              "      <td>500</td>\n",
              "      <td>Fly Away Home (1996)</td>\n",
              "      <td>https://images-na.ssl-images-amazon.com/images...</td>\n",
              "      <td>http://www.imdb.com/title/tt0116329/?ref_=fn_a...</td>\n",
              "    </tr>\n",
              "    <tr>\n",
              "      <th>3</th>\n",
              "      <td>[0]</td>\n",
              "      <td>838</td>\n",
              "      <td>In the Line of Duty 2 (1987)</td>\n",
              "      <td>https://images-na.ssl-images-amazon.com/images...</td>\n",
              "      <td>http://www.imdb.com/title/tt0091229/?ref_=fn_a...</td>\n",
              "    </tr>\n",
              "    <tr>\n",
              "      <th>4</th>\n",
              "      <td>[7]</td>\n",
              "      <td>1648</td>\n",
              "      <td>Niagara, Niagara (1997)</td>\n",
              "      <td>https://images-na.ssl-images-amazon.com/images...</td>\n",
              "      <td>http://www.imdb.com/title/tt0119780/?ref_=fn_a...</td>\n",
              "    </tr>\n",
              "    <tr>\n",
              "      <th>...</th>\n",
              "      <td>...</td>\n",
              "      <td>...</td>\n",
              "      <td>...</td>\n",
              "      <td>...</td>\n",
              "      <td>...</td>\n",
              "    </tr>\n",
              "    <tr>\n",
              "      <th>1676</th>\n",
              "      <td>[10]</td>\n",
              "      <td>1573</td>\n",
              "      <td>Spirits of the Dead (Tre passi nel delirio) (1...</td>\n",
              "      <td>https://images-na.ssl-images-amazon.com/images...</td>\n",
              "      <td>http://www.imdb.com/title/tt0063715/?ref_=fn_a...</td>\n",
              "    </tr>\n",
              "    <tr>\n",
              "      <th>1677</th>\n",
              "      <td>[4]</td>\n",
              "      <td>1611</td>\n",
              "      <td>Intimate Relations (1996)</td>\n",
              "      <td>https://images-na.ssl-images-amazon.com/images...</td>\n",
              "      <td>http://www.imdb.com/title/tt0116643/?ref_=fn_a...</td>\n",
              "    </tr>\n",
              "    <tr>\n",
              "      <th>1679</th>\n",
              "      <td>[4]</td>\n",
              "      <td>824</td>\n",
              "      <td>Great White Hype, The (1996)</td>\n",
              "      <td>https://images-na.ssl-images-amazon.com/images...</td>\n",
              "      <td>http://www.imdb.com/title/tt6154544/?ref_=fn_a...</td>\n",
              "    </tr>\n",
              "    <tr>\n",
              "      <th>1680</th>\n",
              "      <td>[7]</td>\n",
              "      <td>1354</td>\n",
              "      <td>Venice/Venice (1992)</td>\n",
              "      <td>https://images-na.ssl-images-amazon.com/images...</td>\n",
              "      <td>http://www.imdb.com/title/tt0105729/?ref_=fn_a...</td>\n",
              "    </tr>\n",
              "    <tr>\n",
              "      <th>1681</th>\n",
              "      <td>[18]</td>\n",
              "      <td>593</td>\n",
              "      <td>Stalingrad (1993)</td>\n",
              "      <td>https://images-na.ssl-images-amazon.com/images...</td>\n",
              "      <td>http://www.imdb.com/title/tt0108211/?ref_=fn_a...</td>\n",
              "    </tr>\n",
              "  </tbody>\n",
              "</table>\n",
              "<p>1592 rows × 5 columns</p>\n",
              "</div>"
            ],
            "text/plain": [
              "     movie_genres  ...                                          movie_url\n",
              "0             [4]  ...  http://www.imdb.com/title/tt0111804/?ref_=fn_a...\n",
              "1          [4, 7]  ...  http://www.imdb.com/title/tt0116928/?ref_=fn_a...\n",
              "2          [1, 3]  ...  http://www.imdb.com/title/tt0116329/?ref_=fn_a...\n",
              "3             [0]  ...  http://www.imdb.com/title/tt0091229/?ref_=fn_a...\n",
              "4             [7]  ...  http://www.imdb.com/title/tt0119780/?ref_=fn_a...\n",
              "...           ...  ...                                                ...\n",
              "1676         [10]  ...  http://www.imdb.com/title/tt0063715/?ref_=fn_a...\n",
              "1677          [4]  ...  http://www.imdb.com/title/tt0116643/?ref_=fn_a...\n",
              "1679          [4]  ...  http://www.imdb.com/title/tt6154544/?ref_=fn_a...\n",
              "1680          [7]  ...  http://www.imdb.com/title/tt0105729/?ref_=fn_a...\n",
              "1681         [18]  ...  http://www.imdb.com/title/tt0108211/?ref_=fn_a...\n",
              "\n",
              "[1592 rows x 5 columns]"
            ]
          },
          "metadata": {},
          "execution_count": 29
        }
      ]
    },
    {
      "cell_type": "code",
      "metadata": {
        "colab": {
          "base_uri": "https://localhost:8080/"
        },
        "id": "IqR7i0hLBaeh",
        "outputId": "48282d8b-b6dd-491a-fde0-2c708ccf32aa"
      },
      "source": [
        "movie_df.isnull().sum()"
      ],
      "execution_count": 30,
      "outputs": [
        {
          "output_type": "execute_result",
          "data": {
            "text/plain": [
              "movie_genres    0\n",
              "movie_id        0\n",
              "movie_title     0\n",
              "poster_url      0\n",
              "movie_url       0\n",
              "dtype: int64"
            ]
          },
          "metadata": {},
          "execution_count": 30
        }
      ]
    },
    {
      "cell_type": "code",
      "metadata": {
        "id": "KdOAeNro8dvn"
      },
      "source": [
        "movie_df.to_csv('movielens_poster.csv', index=False)"
      ],
      "execution_count": 31,
      "outputs": []
    },
    {
      "cell_type": "code",
      "metadata": {
        "id": "YRDMQr03GiaP"
      },
      "source": [
        ""
      ],
      "execution_count": 28,
      "outputs": []
    }
  ]
}